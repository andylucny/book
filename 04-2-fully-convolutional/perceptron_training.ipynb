{
  "cells": [
    {
      "cell_type": "code",
      "execution_count": null,
      "id": "9725e6a3",
      "metadata": {
        "id": "9725e6a3"
      },
      "outputs": [],
      "source": [
        "import torch\n",
        "import torch.nn as nn\n",
        "import torch.optim as optim\n",
        "import torch.nn.functional as F"
      ]
    },
    {
      "cell_type": "code",
      "execution_count": null,
      "id": "76e203b1",
      "metadata": {
        "id": "76e203b1"
      },
      "outputs": [],
      "source": [
        "# Prepare samples\n",
        "samples_inp = torch.tensor([[0.1,0.2,0.3],[0.1,0.1,0.1],[0.4,0.4,0.4],[0.9,0.9,0.9],[0.3,0.2,0.1],[0.0,0.0,0.1],[0.0,0.0,0.0]],dtype=torch.float)\n",
        "samples_out = torch.tensor([[0.123],[0.111],[0.444],[0.999],[0.321],[0.001],[0.0]],dtype=torch.float)"
      ]
    },
    {
      "cell_type": "code",
      "execution_count": null,
      "id": "dc4c8ff7",
      "metadata": {
        "lines_to_next_cell": 1,
        "id": "dc4c8ff7"
      },
      "outputs": [],
      "source": [
        "samples_inp = samples_inp.unsqueeze(-1).unsqueeze(-1)\n",
        "samples_out = samples_out.unsqueeze(-1).unsqueeze(-1)"
      ]
    },
    {
      "cell_type": "code",
      "execution_count": null,
      "id": "28c4c53f",
      "metadata": {
        "lines_to_next_cell": 1,
        "id": "28c4c53f"
      },
      "outputs": [],
      "source": [
        "class FCPerceptron(nn.Module):\n",
        "    # initialization\n",
        "    def __init__(self, num_inputs, num_hiddens, num_outputs):\n",
        "        super().__init__()\n",
        "        self.layer1 = nn.Conv2d(num_inputs, num_hiddens, (1,1))\n",
        "        self.layer2 = nn.Conv2d(num_hiddens, num_outputs, (1,1))\n",
        "    # forward\n",
        "    def forward(self, x):\n",
        "        return self.layer2(self.layer1(x))"
      ]
    },
    {
      "cell_type": "code",
      "execution_count": null,
      "id": "0ced3040",
      "metadata": {
        "id": "0ced3040"
      },
      "outputs": [],
      "source": [
        "# Define model\n",
        "model = FCPerceptron(3,10,1)"
      ]
    },
    {
      "cell_type": "code",
      "execution_count": null,
      "id": "d6c46b36",
      "metadata": {
        "id": "d6c46b36"
      },
      "outputs": [],
      "source": [
        "# Define loss function\n",
        "loss_function = nn.MSELoss(reduction='sum')"
      ]
    },
    {
      "cell_type": "code",
      "execution_count": null,
      "id": "b483e920",
      "metadata": {
        "id": "b483e920"
      },
      "outputs": [],
      "source": [
        "# Define optimizer\n",
        "optimizer = optim.Adam(model.parameters())"
      ]
    },
    {
      "cell_type": "code",
      "execution_count": null,
      "id": "241bcfc9",
      "metadata": {
        "id": "241bcfc9"
      },
      "outputs": [],
      "source": [
        "# Training\n",
        "num_epochs = 8000"
      ]
    },
    {
      "cell_type": "code",
      "execution_count": null,
      "id": "2f806f5f",
      "metadata": {
        "id": "2f806f5f"
      },
      "outputs": [],
      "source": [
        "for t in range(num_epochs):\n",
        "\n",
        "    # Forward pass\n",
        "    out = model(samples_inp)\n",
        "    loss = loss_function(out, samples_out)\n",
        "    if t % 10 == 0:\n",
        "        print(t, loss.item())\n",
        "\n",
        "    # Reset gradients\n",
        "    optimizer.zero_grad()\n",
        "\n",
        "    # Backward pass\n",
        "    loss.backward()\n",
        "\n",
        "    # Update model parameters (weights)\n",
        "    optimizer.step()"
      ]
    },
    {
      "cell_type": "code",
      "execution_count": null,
      "id": "fdcbc7c6",
      "metadata": {
        "id": "fdcbc7c6"
      },
      "outputs": [],
      "source": [
        "# Saving\n",
        "torch.save(model.state_dict(), 'perceptron.pth') # weights only\n",
        "torch.save(model,'perceptron.pt') # whole model"
      ]
    },
    {
      "cell_type": "code",
      "execution_count": null,
      "id": "93f87ff6",
      "metadata": {
        "id": "93f87ff6"
      },
      "outputs": [],
      "source": [
        "# test\n",
        "result = model(torch.tensor([[[[0.7]],[[0.8]],[[0.9]]]],dtype=torch.float))\n",
        "print('test result',round(result[0].item(),3))"
      ]
    },
    {
      "cell_type": "code",
      "execution_count": null,
      "id": "ba59b887",
      "metadata": {
        "id": "ba59b887"
      },
      "outputs": [],
      "source": [
        "# run in parallel 3 x 3 perceptrons that share weights\n",
        "data = torch.tensor([[[[0.7,0.8,0.9],[0.4,0.5,0.6],[0.1,0.2,0.3]],[[0.7,0.8,0.8],[0.4,0.5,0.5],[0.1,0.2,0.2]],[[0.7,0.8,1.0],[0.4,0.4,0.4],[0.1,0.2,0.1]]]],dtype=torch.float)\n",
        "result = model(data.permute(0,3,1,2))\n",
        "import numpy as np\n",
        "print('test result:\\n',np.round(result[0].detach().cpu().numpy(),3))"
      ]
    },
    {
      "cell_type": "code",
      "source": [],
      "metadata": {
        "id": "MBE_n0T4OMFY"
      },
      "id": "MBE_n0T4OMFY",
      "execution_count": null,
      "outputs": []
    }
  ],
  "metadata": {
    "jupytext": {
      "cell_metadata_filter": "-all",
      "main_language": "python",
      "notebook_metadata_filter": "-all"
    },
    "colab": {
      "provenance": [],
      "gpuType": "T4"
    },
    "accelerator": "GPU",
    "language_info": {
      "name": "python"
    },
    "kernelspec": {
      "name": "python3",
      "display_name": "Python 3"
    }
  },
  "nbformat": 4,
  "nbformat_minor": 5
}