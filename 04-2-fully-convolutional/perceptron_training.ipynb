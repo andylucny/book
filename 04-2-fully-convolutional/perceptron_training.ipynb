{
 "cells": [
  {
   "cell_type": "markdown",
   "id": "c4df7621",
   "metadata": {},
   "source": [
    "C:> workon pytorch\n",
    "(pytorch) C:> python\n",
    ">>>"
   ]
  },
  {
   "cell_type": "code",
   "execution_count": null,
   "id": "9725e6a3",
   "metadata": {},
   "outputs": [],
   "source": [
    "import torch\n",
    "import torch.nn as nn\n",
    "import torch.optim as optim\n",
    "import torch.nn.functional as F"
   ]
  },
  {
   "cell_type": "code",
   "execution_count": null,
   "id": "76e203b1",
   "metadata": {},
   "outputs": [],
   "source": [
    "# Prepare samples\n",
    "samples_inp = torch.tensor([[1,2,3],[1,1,1],[4,4,4],[9,9,9],[3,2,1],[0,0,1],[0,0,0]],dtype=torch.float)\n",
    "samples_out = torch.tensor([[123],[111],[444],[999],[321],[1],[0]],dtype=torch.float)"
   ]
  },
  {
   "cell_type": "code",
   "execution_count": null,
   "id": "dc4c8ff7",
   "metadata": {
    "lines_to_next_cell": 1
   },
   "outputs": [],
   "source": [
    "samples_inp = samples_inp.unsqueeze(-1).unsqueeze(-1)\n",
    "samples_out = samples_out.unsqueeze(-1).unsqueeze(-1)"
   ]
  },
  {
   "cell_type": "code",
   "execution_count": null,
   "id": "28c4c53f",
   "metadata": {
    "lines_to_next_cell": 1
   },
   "outputs": [],
   "source": [
    "class FCPerceptron(nn.Module):\n",
    "    # initialization\n",
    "    def __init__(self, num_inputs, num_hiddens, num_outputs):\n",
    "        super().__init__()\n",
    "        self.layer1 = nn.Conv2d(num_inputs, num_hiddens, (1,1))\n",
    "        self.layer2 = nn.Conv2d(num_hiddens, num_outputs, (1,1))\n",
    "    # forward\n",
    "    def forward(self, x):\n",
    "        return self.layer2(self.layer1(x))"
   ]
  },
  {
   "cell_type": "code",
   "execution_count": null,
   "id": "0ced3040",
   "metadata": {},
   "outputs": [],
   "source": [
    "# Define model \n",
    "model = FCPerceptron(3,10,1)"
   ]
  },
  {
   "cell_type": "code",
   "execution_count": null,
   "id": "d6c46b36",
   "metadata": {},
   "outputs": [],
   "source": [
    "# Define loss function\n",
    "loss_function = nn.MSELoss(reduction='sum')"
   ]
  },
  {
   "cell_type": "code",
   "execution_count": null,
   "id": "b483e920",
   "metadata": {},
   "outputs": [],
   "source": [
    "# Define optimizer\n",
    "optimizer = optim.Adam(model.parameters())"
   ]
  },
  {
   "cell_type": "code",
   "execution_count": null,
   "id": "241bcfc9",
   "metadata": {},
   "outputs": [],
   "source": [
    "# Training\n",
    "num_epochs = 35000"
   ]
  },
  {
   "cell_type": "code",
   "execution_count": null,
   "id": "2f806f5f",
   "metadata": {},
   "outputs": [],
   "source": [
    "for t in range(num_epochs):\n",
    "\n",
    "    # Forward pass\n",
    "    out = model(samples_inp)\n",
    "    loss = loss_function(out, samples_out)\n",
    "    if t % 10 == 0:\n",
    "        print(t, loss.item())\n",
    "\n",
    "    # Reset gradients\n",
    "    optimizer.zero_grad()\n",
    "\n",
    "    # Backward pass\n",
    "    loss.backward()\n",
    "\n",
    "    # Update model parameters (weights)\n",
    "    optimizer.step()"
   ]
  },
  {
   "cell_type": "code",
   "execution_count": null,
   "id": "fdcbc7c6",
   "metadata": {},
   "outputs": [],
   "source": [
    "# Saving \n",
    "torch.save(model.state_dict(), 'perceptron.pth') # weights only\n",
    "torch.save(model,'perceptron.pt') # whole model "
   ]
  },
  {
   "cell_type": "markdown",
   "id": "257c878b",
   "metadata": {},
   "source": [
    "Print weighs\n",
    "for param in model.parameters():\n",
    "   print(param.data)"
   ]
  },
  {
   "cell_type": "code",
   "execution_count": null,
   "id": "93f87ff6",
   "metadata": {},
   "outputs": [],
   "source": [
    "# test\n",
    "result = model(torch.tensor([[[[7]],[[7]],[[7]]]],dtype=torch.float))\n",
    "print('test result',result[0].item())"
   ]
  },
  {
   "cell_type": "code",
   "execution_count": null,
   "id": "ba59b887",
   "metadata": {},
   "outputs": [],
   "source": [
    "# run in parallel 3 x 3 perceptrons that share weights \n",
    "result = model(torch.tensor([[[[7,8,9],[4,5,6],[1,2,3]],[[7,8,9],[4,5,6],[1,2,3]],[[7,8,9],[4,5,6],[1,2,3]]]],dtype=torch.float))\n",
    "print('test result:\\n',result[0].detach().cpu().numpy())"
   ]
  },
  {
   "cell_type": "markdown",
   "id": "bd1e4e45",
   "metadata": {},
   "source": [
    "quit()"
   ]
  }
 ],
 "metadata": {
  "jupytext": {
   "cell_metadata_filter": "-all",
   "main_language": "python",
   "notebook_metadata_filter": "-all"
  }
 },
 "nbformat": 4,
 "nbformat_minor": 5
}
