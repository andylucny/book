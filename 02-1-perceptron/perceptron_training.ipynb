{
 "cells": [
  {
   "cell_type": "markdown",
   "id": "c683da74",
   "metadata": {},
   "source": [
    "C:> workon pytorch\n",
    "(pytorch) C:> python\n",
    ">>>"
   ]
  },
  {
   "cell_type": "code",
   "execution_count": null,
   "id": "2a6b326a",
   "metadata": {},
   "outputs": [],
   "source": [
    "import torch\n",
    "import torch.nn as nn\n",
    "import torch.optim as optim\n",
    "import torch.nn.functional as F"
   ]
  },
  {
   "cell_type": "code",
   "execution_count": null,
   "id": "f2e8f8f9",
   "metadata": {
    "lines_to_next_cell": 1
   },
   "outputs": [],
   "source": [
    "# Prepare samples\n",
    "samples_inp = torch.tensor([[1,2,3],[1,1,1],[4,4,4],[9,9,9],[3,2,1],[0,0,1],[0,0,0]],dtype=torch.float)\n",
    "samples_out = torch.tensor([[123],[111],[444],[999],[321],[1],[0]],dtype=torch.float)"
   ]
  },
  {
   "cell_type": "code",
   "execution_count": null,
   "id": "b243f113",
   "metadata": {
    "lines_to_next_cell": 1
   },
   "outputs": [],
   "source": [
    "class Perceptron(nn.Module):\n",
    "    # initialization\n",
    "    def __init__(self, num_inputs, num_hiddens, num_outputs):\n",
    "        super().__init__()\n",
    "        self.layer1 = nn.Linear(num_inputs, num_hiddens)\n",
    "        self.layer2 = nn.Linear(num_hiddens, num_outputs)\n",
    "    # forward\n",
    "    def forward(self, x):\n",
    "        return self.layer2(self.layer1(x))"
   ]
  },
  {
   "cell_type": "code",
   "execution_count": null,
   "id": "4984d6d9",
   "metadata": {},
   "outputs": [],
   "source": [
    "# Define model \n",
    "model = Perceptron(3,10,1)"
   ]
  },
  {
   "cell_type": "code",
   "execution_count": null,
   "id": "8ec6a82d",
   "metadata": {},
   "outputs": [],
   "source": [
    "# Define loss function\n",
    "loss_function = nn.MSELoss(reduction='sum')"
   ]
  },
  {
   "cell_type": "code",
   "execution_count": null,
   "id": "c6b71a4f",
   "metadata": {},
   "outputs": [],
   "source": [
    "# Define optimizer\n",
    "optimizer = optim.Adam(model.parameters())"
   ]
  },
  {
   "cell_type": "code",
   "execution_count": null,
   "id": "6015e2e1",
   "metadata": {},
   "outputs": [],
   "source": [
    "# Training\n",
    "num_epochs = 35000"
   ]
  },
  {
   "cell_type": "code",
   "execution_count": null,
   "id": "ef05719c",
   "metadata": {},
   "outputs": [],
   "source": [
    "for t in range(num_epochs):\n",
    "\n",
    "    # Forward pass\n",
    "    out = model(samples_inp)\n",
    "    loss = loss_function(out, samples_out)\n",
    "    if t % 10 == 0:\n",
    "        print(t, loss.item())\n",
    "\n",
    "    # Reset gradients\n",
    "    optimizer.zero_grad()\n",
    "\n",
    "    # Backward pass\n",
    "    loss.backward()\n",
    "\n",
    "    # Update model parameters (weights)\n",
    "    optimizer.step()"
   ]
  },
  {
   "cell_type": "code",
   "execution_count": null,
   "id": "3a3918ae",
   "metadata": {},
   "outputs": [],
   "source": [
    "# Saving \n",
    "torch.save(model.state_dict(), 'perceptron.pth') # weights only\n",
    "torch.save(model,'perceptron.pt') # whole model "
   ]
  },
  {
   "cell_type": "code",
   "execution_count": null,
   "id": "77689175",
   "metadata": {},
   "outputs": [],
   "source": [
    "# Print weighs\n",
    "for param in model.parameters():\n",
    "    print(param.data)"
   ]
  },
  {
   "cell_type": "code",
   "execution_count": null,
   "id": "8cd997b5",
   "metadata": {},
   "outputs": [],
   "source": [
    "# test\n",
    "result = model(torch.tensor([[7,7,7]],dtype=torch.float))\n",
    "print('test result',result[0].item())"
   ]
  },
  {
   "cell_type": "markdown",
   "id": "9a385ddc",
   "metadata": {},
   "source": [
    "quit()"
   ]
  }
 ],
 "metadata": {
  "jupytext": {
   "cell_metadata_filter": "-all",
   "main_language": "python",
   "notebook_metadata_filter": "-all"
  }
 },
 "nbformat": 4,
 "nbformat_minor": 5
}
