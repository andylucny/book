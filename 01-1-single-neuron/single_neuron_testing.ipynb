{
 "cells": [
  {
   "cell_type": "markdown",
   "id": "1aafc1fa",
   "metadata": {},
   "source": [
    "C:> workon pytorch\n",
    "(pytorch) C:> python\n",
    ">>>"
   ]
  },
  {
   "cell_type": "code",
   "execution_count": null,
   "id": "506a9b48",
   "metadata": {
    "lines_to_next_cell": 1
   },
   "outputs": [],
   "source": [
    "import torch\n",
    "import torch.nn as nn\n",
    "import torch.optim as optim\n",
    "import torch.nn.functional as F"
   ]
  },
  {
   "cell_type": "code",
   "execution_count": null,
   "id": "0c07c8bf",
   "metadata": {
    "lines_to_next_cell": 1
   },
   "outputs": [],
   "source": [
    "class SingleNeuron(nn.Module):\n",
    "    # initialization\n",
    "    def __init__(self, num_inputs):\n",
    "        super().__init__()\n",
    "        self.neuron = nn.Linear(num_inputs, 1)\n",
    "    # forward\n",
    "    def forward(self, x):\n",
    "        return self.neuron(x)"
   ]
  },
  {
   "cell_type": "markdown",
   "id": "119ee444",
   "metadata": {},
   "source": [
    "load the whole model\n",
    "model = torch.load('single-neuron.pt')"
   ]
  },
  {
   "cell_type": "code",
   "execution_count": null,
   "id": "a37a9943",
   "metadata": {},
   "outputs": [],
   "source": [
    "# load weights\n",
    "model = SingleNeuron(3)\n",
    "model.load_state_dict(torch.load('single-neuron.pth'))"
   ]
  },
  {
   "cell_type": "code",
   "execution_count": null,
   "id": "b38d6bdc",
   "metadata": {},
   "outputs": [],
   "source": [
    "result = model(torch.tensor([[7,7,7]],dtype=torch.float))\n",
    "print('test result',result[0].item())"
   ]
  },
  {
   "cell_type": "markdown",
   "id": "a1a970ff",
   "metadata": {},
   "source": [
    "quit()"
   ]
  }
 ],
 "metadata": {
  "jupytext": {
   "cell_metadata_filter": "-all",
   "main_language": "python",
   "notebook_metadata_filter": "-all"
  },
  "kernelspec": {
   "display_name": "Python 3 (ipykernel)",
   "language": "python",
   "name": "python3"
  },
  "language_info": {
   "codemirror_mode": {
    "name": "ipython",
    "version": 3
   },
   "file_extension": ".py",
   "mimetype": "text/x-python",
   "name": "python",
   "nbconvert_exporter": "python",
   "pygments_lexer": "ipython3",
   "version": "3.9.0"
  }
 },
 "nbformat": 4,
 "nbformat_minor": 5
}
