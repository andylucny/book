{
  "cells": [
    {
      "cell_type": "code",
      "execution_count": null,
      "id": "506a9b48",
      "metadata": {
        "lines_to_next_cell": 1,
        "id": "506a9b48"
      },
      "outputs": [],
      "source": [
        "import torch\n",
        "import torch.nn as nn\n",
        "import torch.optim as optim\n",
        "import torch.nn.functional as F"
      ]
    },
    {
      "cell_type": "code",
      "execution_count": null,
      "id": "0c07c8bf",
      "metadata": {
        "lines_to_next_cell": 1,
        "id": "0c07c8bf"
      },
      "outputs": [],
      "source": [
        "class SingleNeuron(nn.Module):\n",
        "    # initialization\n",
        "    def __init__(self, num_inputs):\n",
        "        super().__init__()\n",
        "        self.neuron = nn.Linear(num_inputs, 1)\n",
        "    # forward\n",
        "    def forward(self, x):\n",
        "        return self.neuron(x)"
      ]
    },
    {
      "cell_type": "code",
      "execution_count": null,
      "id": "a37a9943",
      "metadata": {
        "id": "a37a9943"
      },
      "outputs": [],
      "source": [
        "# load weights\n",
        "model = SingleNeuron(3)\n",
        "model.load_state_dict(torch.load('single-neuron.pth'))\n",
        "# model = torch.load('single-neuron.pt')"
      ]
    },
    {
      "cell_type": "code",
      "execution_count": null,
      "id": "b38d6bdc",
      "metadata": {
        "id": "b38d6bdc"
      },
      "outputs": [],
      "source": [
        "result = model(torch.tensor([[7,7,7]],dtype=torch.float))\n",
        "print('test result',result[0].item())"
      ]
    }
  ],
  "metadata": {
    "jupytext": {
      "cell_metadata_filter": "-all",
      "main_language": "python",
      "notebook_metadata_filter": "-all"
    },
    "kernelspec": {
      "display_name": "Python 3",
      "name": "python3"
    },
    "language_info": {
      "codemirror_mode": {
        "name": "ipython",
        "version": 3
      },
      "file_extension": ".py",
      "mimetype": "text/x-python",
      "name": "python",
      "nbconvert_exporter": "python",
      "pygments_lexer": "ipython3",
      "version": "3.9.0"
    },
    "colab": {
      "provenance": [],
      "gpuType": "T4"
    },
    "accelerator": "GPU"
  },
  "nbformat": 4,
  "nbformat_minor": 5
}