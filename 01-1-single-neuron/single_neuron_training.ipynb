{
 "cells": [
  {
   "cell_type": "markdown",
   "id": "d928f03a",
   "metadata": {},
   "source": [
    "C:> workon pytorch\n",
    "(pytorch) C:> python\n",
    ">>>"
   ]
  },
  {
   "cell_type": "code",
   "execution_count": null,
   "id": "04172554",
   "metadata": {},
   "outputs": [],
   "source": [
    "import torch\n",
    "import torch.nn as nn\n",
    "import torch.optim as optim\n",
    "import torch.nn.functional as F\n",
    "import time"
   ]
  },
  {
   "cell_type": "code",
   "execution_count": null,
   "id": "0b1e2c61",
   "metadata": {},
   "outputs": [],
   "source": [
    "device = 'cpu'"
   ]
  },
  {
   "cell_type": "code",
   "execution_count": null,
   "id": "e7df55fd",
   "metadata": {
    "lines_to_next_cell": 1
   },
   "outputs": [],
   "source": [
    "# Prepare samples\n",
    "#samples_inp = torch.tensor([[1,2,3],[1,1,1],[4,4,4],[9,9,9],[3,2,1],[0,0,1],[0,0,0]],dtype=torch.float).to(device)\n",
    "#samples_out = torch.tensor([[123],[111],[444],[999],[321],[1],[0]],dtype=torch.float).to(device)\n",
    "samples_inp = torch.tensor([[1,2,3],[1,1,1],[4,4,4],[9,9,9]],dtype=torch.float).to(device)\n",
    "samples_out = torch.tensor([[123],[111],[444],[999]],dtype=torch.float).to(device)"
   ]
  },
  {
   "cell_type": "code",
   "execution_count": null,
   "id": "fcd44305",
   "metadata": {
    "lines_to_next_cell": 1
   },
   "outputs": [],
   "source": [
    "class SingleNeuron(nn.Module):\n",
    "    # initialization\n",
    "    def __init__(self, num_inputs):\n",
    "        super().__init__()\n",
    "        self.neuron = nn.Linear(num_inputs, 1)\n",
    "    # forward\n",
    "    def forward(self, x):\n",
    "        return self.neuron(x)"
   ]
  },
  {
   "cell_type": "code",
   "execution_count": null,
   "id": "4fd2e4d2",
   "metadata": {},
   "outputs": [],
   "source": [
    "# Define model \n",
    "model = SingleNeuron(3).to(device)\n",
    "print(list(model.parameters()))"
   ]
  },
  {
   "cell_type": "code",
   "execution_count": null,
   "id": "98d167ee",
   "metadata": {},
   "outputs": [],
   "source": [
    "# Define loss function\n",
    "loss_function = nn.MSELoss(reduction='sum')"
   ]
  },
  {
   "cell_type": "code",
   "execution_count": null,
   "id": "d66ba2ad",
   "metadata": {},
   "outputs": [],
   "source": [
    "# Define optimizer\n",
    "optimizer = optim.Adam(model.parameters())"
   ]
  },
  {
   "cell_type": "code",
   "execution_count": null,
   "id": "794c9c07",
   "metadata": {},
   "outputs": [],
   "source": [
    "# Training\n",
    "num_epochs = 130000\n",
    "history = []\n",
    "t0 = time.time()\n",
    "for t in range(num_epochs):\n",
    "\n",
    "    # Forward pass\n",
    "    out = model(samples_inp)\n",
    "    loss = loss_function(out, samples_out)\n",
    "    if t % 100 == 0:\n",
    "        print(t, loss.cpu().item(), list(next(model.parameters()).clone().detach().cpu().numpy()))\n",
    "    history.append(loss.cpu().item())\n",
    "\n",
    "    # Reset gradients\n",
    "    optimizer.zero_grad()\n",
    "\n",
    "    # Backward pass\n",
    "    loss.backward()\n",
    "\n",
    "    # Update model parameters (weights)\n",
    "    optimizer.step()"
   ]
  },
  {
   "cell_type": "code",
   "execution_count": null,
   "id": "bf5bb439",
   "metadata": {},
   "outputs": [],
   "source": [
    "t1 = time.time()\n",
    "print(f\"elapsed: {t1-t0:.4f}s\") "
   ]
  },
  {
   "cell_type": "code",
   "execution_count": null,
   "id": "e853b40d",
   "metadata": {},
   "outputs": [],
   "source": [
    "# Saving \n",
    "torch.save(model.state_dict(), 'single-neuron.pth') # weights only\n",
    "torch.save(model,'single-neuron.pt') # whole model "
   ]
  },
  {
   "cell_type": "code",
   "execution_count": null,
   "id": "aa6a89f5",
   "metadata": {},
   "outputs": [],
   "source": [
    "# Print weighs\n",
    "for param in model.parameters():\n",
    "    print(param.data)"
   ]
  },
  {
   "cell_type": "code",
   "execution_count": null,
   "id": "0e036a2a",
   "metadata": {},
   "outputs": [],
   "source": [
    "# test\n",
    "result = model(torch.tensor([[7,7,7]],dtype=torch.float).to(device))\n",
    "print('test result',result[0].item())"
   ]
  },
  {
   "cell_type": "code",
   "execution_count": null,
   "id": "663b9d76",
   "metadata": {},
   "outputs": [],
   "source": [
    "# optional only\n",
    "import matplotlib.pyplot as plt\n",
    "# Loss Curves\n",
    "plt.figure(figsize=[8,6])\n",
    "plt.plot(history,'r',linewidth=3.0)\n",
    "plt.legend(['Training loss'],fontsize=18)\n",
    "plt.xlabel('Epochs ',fontsize=16)\n",
    "plt.ylabel('Loss',fontsize=16)\n",
    "plt.title('Loss Curve',fontsize=16)\n",
    "#\n",
    "plt.savefig('fig.png')"
   ]
  },
  {
   "cell_type": "markdown",
   "id": "81e1209c",
   "metadata": {},
   "source": [
    "quit()"
   ]
  }
 ],
 "metadata": {
  "jupytext": {
   "cell_metadata_filter": "-all",
   "main_language": "python",
   "notebook_metadata_filter": "-all"
  }
 },
 "nbformat": 4,
 "nbformat_minor": 5
}
