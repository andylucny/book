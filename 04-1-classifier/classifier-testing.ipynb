{
  "cells": [
    {
      "cell_type": "code",
      "execution_count": null,
      "id": "b7ba2753",
      "metadata": {
        "id": "b7ba2753"
      },
      "outputs": [],
      "source": [
        "import numpy as np\n",
        "import cv2\n",
        "import torch\n",
        "import torch.nn as nn\n",
        "import torch.optim as optim\n",
        "import torch.nn.functional as F\n",
        "from torchvision import transforms"
      ]
    },
    {
      "cell_type": "code",
      "execution_count": null,
      "id": "7abcac39",
      "metadata": {
        "lines_to_next_cell": 1,
        "id": "7abcac39"
      },
      "outputs": [],
      "source": [
        "num_classes = 10\n",
        "model_name = 'pytorch_cifar10_model.pth'\n",
        "device = 'cuda:0'"
      ]
    },
    {
      "cell_type": "code",
      "execution_count": null,
      "id": "c7ebf52c",
      "metadata": {
        "lines_to_next_cell": 1,
        "id": "c7ebf52c"
      },
      "outputs": [],
      "source": [
        "# network definition\n",
        "class Classifier(nn.Module):\n",
        "    def __init__(self):\n",
        "        super().__init__()\n",
        "        self.encoder = nn.Sequential(\n",
        "            nn.Conv2d(3,32,(3,3),padding=1),\n",
        "            nn.ReLU(),\n",
        "            nn.Conv2d(32,32,(3,3)),\n",
        "            nn.ReLU(),\n",
        "            nn.MaxPool2d(2),\n",
        "            nn.Dropout(0.25),\n",
        "            #----------------\n",
        "            nn.Conv2d(32,64,(3,3),padding=1),\n",
        "            nn.ReLU(),\n",
        "            nn.Conv2d(64,64,(3,3)),\n",
        "            nn.ReLU(),\n",
        "            nn.MaxPool2d(2),\n",
        "            nn.Dropout(0.25),\n",
        "            #----------------\n",
        "            nn.Conv2d(64,64,(3,3),padding=1),\n",
        "            nn.ReLU(),\n",
        "            nn.Conv2d(64,64,(3,3)),\n",
        "            nn.ReLU(),\n",
        "            nn.MaxPool2d(2),\n",
        "            nn.Dropout(0.25),\n",
        "            #----------------\n",
        "            nn.Flatten()\n",
        "        )\n",
        "        self.perceptron = nn.Sequential(\n",
        "            nn.Linear(256,512),\n",
        "            nn.ReLU(),\n",
        "            nn.Dropout(0.5),\n",
        "            nn.Linear(512,num_classes),\n",
        "            nn.Softmax(1)\n",
        "        )\n",
        "    def forward(self, x):\n",
        "        features = self.encoder(x)\n",
        "        return self.perceptron(features)"
      ]
    },
    {
      "cell_type": "code",
      "execution_count": null,
      "id": "eae0c40e",
      "metadata": {
        "id": "eae0c40e"
      },
      "outputs": [],
      "source": [
        "model = Classifier()"
      ]
    },
    {
      "cell_type": "code",
      "source": [
        "from google.colab import files\n",
        "print('upload',model_name)\n",
        "_ = files.upload()"
      ],
      "metadata": {
        "id": "VMBcu6oG0yfc"
      },
      "id": "VMBcu6oG0yfc",
      "execution_count": null,
      "outputs": []
    },
    {
      "cell_type": "code",
      "execution_count": null,
      "id": "a6d13311",
      "metadata": {
        "id": "a6d13311"
      },
      "outputs": [],
      "source": [
        "model.load_state_dict(torch.load(model_name))"
      ]
    },
    {
      "cell_type": "code",
      "source": [
        "model.to(device)\n",
        "model.eval()"
      ],
      "metadata": {
        "id": "nEeyNJ900rEj"
      },
      "id": "nEeyNJ900rEj",
      "execution_count": null,
      "outputs": []
    },
    {
      "cell_type": "code",
      "source": [
        "!wget http://www.agentspace.org/download/cifarsamples.zip\n",
        "!unzip -q cifarsamples.zip\n",
        "!rm cifarsamples.zip\n",
        "!ls -l *.png"
      ],
      "metadata": {
        "id": "48HCBqUhHz1x"
      },
      "id": "48HCBqUhHz1x",
      "execution_count": null,
      "outputs": []
    },
    {
      "cell_type": "code",
      "execution_count": null,
      "id": "a93a8843",
      "metadata": {
        "id": "a93a8843"
      },
      "outputs": [],
      "source": [
        "image1 = cv2.imread('car.png',cv2.IMREAD_COLOR) # from dataset\n",
        "image2 = cv2.imread('cat.png',cv2.IMREAD_COLOR) # from dataset\n",
        "image3 = cv2.imread('cat2.png',cv2.IMREAD_COLOR) # from internet & resized"
      ]
    },
    {
      "cell_type": "code",
      "execution_count": null,
      "id": "47218887",
      "metadata": {
        "id": "47218887"
      },
      "outputs": [],
      "source": [
        "image1 = cv2.cvtColor(image1,cv2.COLOR_BGR2RGB)\n",
        "image2 = cv2.cvtColor(image2,cv2.COLOR_BGR2RGB)\n",
        "image3 = cv2.cvtColor(image3,cv2.COLOR_BGR2RGB)"
      ]
    },
    {
      "cell_type": "code",
      "source": [
        "image3.min(),image3.max()"
      ],
      "metadata": {
        "id": "KLSz6nmWT1DL"
      },
      "id": "KLSz6nmWT1DL",
      "execution_count": null,
      "outputs": []
    },
    {
      "cell_type": "code",
      "execution_count": null,
      "id": "70df4425",
      "metadata": {
        "id": "70df4425"
      },
      "outputs": [],
      "source": [
        "transform = transforms.Compose([transforms.ToTensor(),transforms.Normalize((0.4914, 0.4822, 0.4465),(0.2023, 0.1994, 0.2010))])\n",
        "input_images = torch.stack((transform(image1),transform(image2),transform(image3))).to(device)"
      ]
    },
    {
      "cell_type": "code",
      "source": [
        "input_images[0][0].min(),input_images[0][0].max()"
      ],
      "metadata": {
        "id": "FsmpjcLtTZ3f"
      },
      "id": "FsmpjcLtTZ3f",
      "execution_count": null,
      "outputs": []
    },
    {
      "cell_type": "code",
      "source": [
        "categories = model(input_images)"
      ],
      "metadata": {
        "id": "8JgwaVw1UdbO"
      },
      "id": "8JgwaVw1UdbO",
      "execution_count": null,
      "outputs": []
    },
    {
      "cell_type": "code",
      "execution_count": null,
      "id": "0c9727a1",
      "metadata": {
        "id": "0c9727a1"
      },
      "outputs": [],
      "source": [
        "classes = ('plane', 'car', 'bird', 'cat', 'deer', 'dog', 'frog', 'horse', 'ship', 'truck')\n",
        "print([classes[i] for i in torch.argmax(categories,dim=1)])\n",
        "print([f\"{probability.item():.3f}\" for probability in torch.max(categories,dim=1)[0]])"
      ]
    }
  ],
  "metadata": {
    "jupytext": {
      "cell_metadata_filter": "-all",
      "main_language": "python",
      "notebook_metadata_filter": "-all"
    },
    "colab": {
      "provenance": [],
      "gpuType": "T4"
    },
    "accelerator": "GPU",
    "language_info": {
      "name": "python"
    },
    "kernelspec": {
      "name": "python3",
      "display_name": "Python 3"
    }
  },
  "nbformat": 4,
  "nbformat_minor": 5
}