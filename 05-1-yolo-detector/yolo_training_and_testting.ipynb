{
  "cells": [
    {
      "cell_type": "code",
      "source": [
        "!pip install numpy\n",
        "!pip install opencv-python\n",
        "!pip install torch~=2.5.0\n",
        "!pip install torchvision\n",
        "!pip install onnx\n",
        "!pip install matplotlib\n",
        "!pip install PyYAM\n",
        "!pip install scipy\n",
        "!pip install tqdm\n",
        "!pip install tensorboard\n",
        "!pip install pillow\n",
        "!pip install thop\n",
        "!pip install scikit-image\n",
        "!pip install pycocotools~=2.0.1\n",
        "!pip install pathlib~=1.0.1\n",
        "!pip install setuptools"
      ],
      "metadata": {
        "id": "mCZtHU5E2R8T"
      },
      "id": "mCZtHU5E2R8T",
      "execution_count": null,
      "outputs": []
    },
    {
      "cell_type": "code",
      "source": [
        "!wget https://www.agentspace.org/download/watch.zip\n",
        "!unzip watch.zip\n",
        "!rm watch.zip"
      ],
      "metadata": {
        "id": "6zjG8jO58H1o"
      },
      "id": "6zjG8jO58H1o",
      "execution_count": null,
      "outputs": []
    },
    {
      "cell_type": "code",
      "source": [
        "# model\n",
        "!cat ./model_configs/custom/yolov3_tiny.cfg"
      ],
      "metadata": {
        "id": "5oOK1I4N0j4n"
      },
      "id": "5oOK1I4N0j4n",
      "execution_count": null,
      "outputs": []
    },
    {
      "cell_type": "code",
      "source": [
        "# hyperparameters\n",
        "!cat ./configs/custom/yolov3_tiny.yaml"
      ],
      "metadata": {
        "id": "WNiEgirMzyeV"
      },
      "id": "WNiEgirMzyeV",
      "execution_count": null,
      "outputs": []
    },
    {
      "cell_type": "code",
      "source": [
        "import sys"
      ],
      "metadata": {
        "id": "gBMmOZ2epCcQ"
      },
      "id": "gBMmOZ2epCcQ",
      "execution_count": null,
      "outputs": []
    },
    {
      "cell_type": "code",
      "source": [
        "sys.argv = [ 'train.py', './configs/custom/yolov3_tiny.yaml' ]\n",
        "from tools.train import main as training\n",
        "training()"
      ],
      "metadata": {
        "id": "sRulnDqpo5LK"
      },
      "id": "sRulnDqpo5LK",
      "execution_count": null,
      "outputs": []
    },
    {
      "cell_type": "code",
      "source": [
        "sys.argv = [\n",
        "    'export.py',\n",
        "    '--img-size', '416',\n",
        "    '--cfg', './model_configs/custom/yolov3_tiny.cfg',\n",
        "    '--weights', './results/train/yolov3-tiny-custom-20240707_120114/last.pth.tar',\n",
        "    '--export-mode', 'torch',\n",
        "    '--export-dir', './results/export'\n",
        "]\n",
        "from tools.export import main as export\n",
        "export()\n"
      ],
      "metadata": {
        "id": "LCHWN2q3pH5L"
      },
      "id": "LCHWN2q3pH5L",
      "execution_count": null,
      "outputs": []
    },
    {
      "cell_type": "code",
      "source": [
        "!ls ./results/export/"
      ],
      "metadata": {
        "id": "a9rBggaqNoOh"
      },
      "id": "a9rBggaqNoOh",
      "execution_count": null,
      "outputs": []
    },
    {
      "cell_type": "code",
      "source": [
        "from google.colab import files\n",
        "files.download('./results/export/last.pth')"
      ],
      "metadata": {
        "id": "VArPsbBGNkKZ"
      },
      "id": "VArPsbBGNkKZ",
      "execution_count": null,
      "outputs": []
    },
    {
      "cell_type": "code",
      "source": [
        "import torch\n",
        "from yolov3_pytorch.utils import scale_coords, xyxy2xywh, non_max_suppression, plot_one_box\n",
        "from yolov3_pytorch.data.data_augment import letterbox\n",
        "import numpy as np\n",
        "import cv2\n",
        "\n",
        "device='cuda'\n",
        "\n",
        "model_path = './results/export/last.pth'\n",
        "model = torch.load(model_path)\n",
        "print(f\"Loaded {model_path} successfully.\")\n",
        "model.eval()\n",
        "img_size = 416\n",
        "conf_thresh = 0.08\n",
        "iou_thresh = 0.45\n",
        "\n",
        "with open('./data/custom/custom.names','r') as f:\n",
        "    names = [ name[:-1].strip() for name in f.readlines() ]\n",
        "\n",
        "video = cv2.VideoCapture('./test_data/watch.avi')\n",
        "fps = video.get(cv2.CAP_PROP_FPS)\n",
        "hasFrame, frame = video.read()\n",
        "\n",
        "out = cv2.VideoWriter()\n",
        "out.open('./results/watch-labelled.avi',cv2.VideoWriter_fourcc('M','J','P','G'),fps,(frame.shape[1],frame.shape[0]))\n",
        "\n",
        "while True:\n",
        "\n",
        "    # preprocess\n",
        "    img, _, _ = letterbox(frame,new_shape=img_size)\n",
        "    #print(f'blob resolution: {img.shape[1]} x {img.shape[0]}')\n",
        "    img = cv2.cvtColor(img,cv2.COLOR_BGR2RGB)\n",
        "    blob = cv2.dnn.blobFromImage(img,1.0/255)\n",
        "    blob = torch.tensor(blob)\n",
        "    blob = blob.to(device)\n",
        "\n",
        "    # Inference\n",
        "    with torch.no_grad():\n",
        "        output, _ = model(blob, False)\n",
        "\n",
        "    # postprocess\n",
        "    output = non_max_suppression(output, conf_thresh, iou_thresh)\n",
        "    detect_result  = output[0]\n",
        "    if detect_result is not None:\n",
        "        detect_result[:, :4] = scale_coords(blob.shape[2:], detect_result[:, :4], frame.shape).round()\n",
        "        best = detect_result[:,4].argmax()\n",
        "        *xyxy, confidence, classes  = detect_result[best]\n",
        "        print(f'{confidence.item():.2f},{int(xyxy[0].item())},{int(xyxy[1].item())},{int(xyxy[2].item())},{int(xyxy[3].item())}')\n",
        "        plot_one_box(xyxy, frame, label=names[0], color=(0,255,0))\n",
        "\n",
        "    out.write(frame)\n",
        "\n",
        "    hasFrame, frame = video.read()\n",
        "    if not hasFrame:\n",
        "        break\n",
        "\n",
        "out.release()"
      ],
      "metadata": {
        "id": "_px4Yi1Gpner"
      },
      "id": "_px4Yi1Gpner",
      "execution_count": null,
      "outputs": []
    },
    {
      "cell_type": "code",
      "source": [
        "from google.colab import files\n",
        "files.download('./results/watch-labelled.avi')"
      ],
      "metadata": {
        "id": "JNjVTagOp-Gq"
      },
      "id": "JNjVTagOp-Gq",
      "execution_count": null,
      "outputs": []
    }
  ],
  "metadata": {
    "jupytext": {
      "cell_metadata_filter": "-all",
      "main_language": "python",
      "notebook_metadata_filter": "-all"
    },
    "colab": {
      "provenance": [],
      "gpuType": "T4"
    },
    "accelerator": "GPU",
    "language_info": {
      "name": "python"
    },
    "kernelspec": {
      "name": "python3",
      "display_name": "Python 3"
    }
  },
  "nbformat": 4,
  "nbformat_minor": 5
}