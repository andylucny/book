{
  "cells": [
    {
      "cell_type": "code",
      "source": [
        "!test -f lena.jpg || wget https://raw.githubusercontent.com/opencv/opencv/master/samples/data/lena.jpg\n",
        "from google.colab import files\n",
        "import os\n",
        "print('lena-sobel.txt')\n",
        "while not os.path.exists('lena-sobel.txt'):\n",
        "    files.upload()"
      ],
      "metadata": {
        "id": "UWejoNfZdEKe"
      },
      "id": "UWejoNfZdEKe",
      "execution_count": null,
      "outputs": []
    },
    {
      "cell_type": "code",
      "execution_count": null,
      "id": "c28aacbd",
      "metadata": {
        "id": "c28aacbd"
      },
      "outputs": [],
      "source": [
        "import numpy as np\n",
        "import cv2\n",
        "import matplotlib.pyplot as plt\n",
        "import torch\n",
        "import torch.nn as nn\n",
        "import torch.optim as optim\n",
        "import torch.nn.functional as F"
      ]
    },
    {
      "cell_type": "code",
      "execution_count": null,
      "id": "b4aa01b2",
      "metadata": {
        "lines_to_next_cell": 1,
        "id": "b4aa01b2"
      },
      "outputs": [],
      "source": [
        "# load samples (single image provides many samples for edge detection)\n",
        "sample_inp = cv2.imread('lena.jpg',cv2.IMREAD_GRAYSCALE)\n",
        "sample_out = np.loadtxt('lena-sobel.txt', dtype=np.float32)\n",
        "rows,cols = sample_inp.shape\n",
        "samples_inp = torch.from_numpy(sample_inp).float().unsqueeze(0).unsqueeze(0)\n",
        "samples_out = torch.from_numpy(sample_out).float().unsqueeze(0).unsqueeze(0)\n",
        "print(samples_inp.shape)\n",
        "print(samples_out.shape)"
      ]
    },
    {
      "cell_type": "code",
      "execution_count": null,
      "id": "73b3c51a",
      "metadata": {
        "lines_to_next_cell": 1,
        "id": "73b3c51a"
      },
      "outputs": [],
      "source": [
        "# define the model\n",
        "class SobelFilter(nn.Module):\n",
        "    # initialization\n",
        "    def __init__(self):\n",
        "        super().__init__()\n",
        "        self.conv = nn.Conv2d(1,1,(3,3),bias=False,padding=1)\n",
        "    # forward\n",
        "    def forward(self, x):\n",
        "        return self.conv(x)"
      ]
    },
    {
      "cell_type": "code",
      "execution_count": null,
      "id": "478d8ec0",
      "metadata": {
        "id": "478d8ec0"
      },
      "outputs": [],
      "source": [
        "model = SobelFilter()"
      ]
    },
    {
      "cell_type": "code",
      "execution_count": null,
      "id": "c56b5815",
      "metadata": {
        "id": "c56b5815"
      },
      "outputs": [],
      "source": [
        "# Define loss function\n",
        "loss_function = nn.MSELoss(reduction='sum')"
      ]
    },
    {
      "cell_type": "code",
      "execution_count": null,
      "id": "0c3e12bc",
      "metadata": {
        "id": "0c3e12bc"
      },
      "outputs": [],
      "source": [
        "# Define optimizer\n",
        "optimizer = optim.Adam(model.parameters())"
      ]
    },
    {
      "cell_type": "code",
      "execution_count": null,
      "id": "90204f79",
      "metadata": {
        "id": "90204f79"
      },
      "outputs": [],
      "source": [
        "# Training\n",
        "num_epochs = 12500"
      ]
    },
    {
      "cell_type": "code",
      "execution_count": null,
      "id": "18dfe8ba",
      "metadata": {
        "id": "18dfe8ba"
      },
      "outputs": [],
      "source": [
        "for t in range(num_epochs):\n",
        "    # Forward pass\n",
        "    out = model(samples_inp)\n",
        "    loss = loss_function(out, samples_out)\n",
        "    if t % 100 == 0:\n",
        "        print(t, loss.item())\n",
        "    # Reset gradients\n",
        "    optimizer.zero_grad()\n",
        "    # Backward pass\n",
        "    loss.backward()\n",
        "    # Update model parameters (weights)\n",
        "    optimizer.step()"
      ]
    },
    {
      "cell_type": "code",
      "execution_count": null,
      "id": "5ccd0d45",
      "metadata": {
        "id": "5ccd0d45"
      },
      "outputs": [],
      "source": [
        "# Print weighs\n",
        "for param in model.parameters():\n",
        "    print(param.data)"
      ]
    },
    {
      "cell_type": "markdown",
      "id": "9b3906e5",
      "metadata": {
        "id": "9b3906e5"
      },
      "source": [
        "tensor([[[[-1.0000e+00,  1.1135e-07,  1.0000e+00],\n",
        "          [-2.0000e+00, -3.0023e-07,  2.0000e+00],\n",
        "          [-1.0000e+00,  1.0843e-07,  1.0000e+00]]]])    "
      ]
    },
    {
      "cell_type": "code",
      "execution_count": null,
      "id": "f54e59bb",
      "metadata": {
        "id": "f54e59bb"
      },
      "outputs": [],
      "source": [
        "output_images = model(samples_inp)"
      ]
    },
    {
      "cell_type": "code",
      "execution_count": null,
      "id": "eb95c92d",
      "metadata": {
        "id": "eb95c92d"
      },
      "outputs": [],
      "source": [
        "output_image = output_images[0]\n",
        "output_image = output_image.squeeze(0)\n",
        "output_image = output_image.detach().numpy()\n",
        "print(output_image.shape)\n",
        "print(np.amax(output_image))\n",
        "print(np.amin(output_image))"
      ]
    },
    {
      "cell_type": "code",
      "execution_count": null,
      "id": "0d895a97",
      "metadata": {
        "id": "0d895a97"
      },
      "outputs": [],
      "source": [
        "output_image = abs(output_image);\n",
        "output_image = cv2.normalize(output_image,None,0,255,cv2.NORM_MINMAX)\n",
        "output_image = np.uint8(output_image)\n",
        "cv2.imwrite('lena-sobel2.jpg',output_image)"
      ]
    },
    {
      "cell_type": "code",
      "execution_count": null,
      "id": "8a0a27fb",
      "metadata": {
        "id": "8a0a27fb"
      },
      "outputs": [],
      "source": [
        "plt.imshow(output_image, cmap='gray')\n",
        "plt.show()"
      ]
    },
    {
      "cell_type": "code",
      "execution_count": null,
      "id": "9e233e33",
      "metadata": {
        "id": "9e233e33"
      },
      "outputs": [],
      "source": [
        "# save the model\n",
        "torch.save(model.state_dict(), 'sobel.pth') # weights only"
      ]
    }
  ],
  "metadata": {
    "jupytext": {
      "cell_metadata_filter": "-all",
      "main_language": "python",
      "notebook_metadata_filter": "-all"
    },
    "kernelspec": {
      "display_name": "Python 3 (ipykernel)",
      "language": "python",
      "name": "python3"
    },
    "language_info": {
      "codemirror_mode": {
        "name": "ipython",
        "version": 3
      },
      "file_extension": ".py",
      "mimetype": "text/x-python",
      "name": "python",
      "nbconvert_exporter": "python",
      "pygments_lexer": "ipython3",
      "version": "3.9.0"
    },
    "colab": {
      "provenance": []
    }
  },
  "nbformat": 4,
  "nbformat_minor": 5
}