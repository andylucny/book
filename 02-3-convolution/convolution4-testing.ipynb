{
  "cells": [
    {
      "cell_type": "code",
      "source": [
        "!test -f lena.jpg || wget https://raw.githubusercontent.com/opencv/opencv/master/samples/data/lena.jpg\n",
        "from google.colab import files\n",
        "import os\n",
        "print('sobel.pth')\n",
        "while not os.path.exists('sobel.pth'):\n",
        "    files.upload()"
      ],
      "metadata": {
        "id": "A6vRSE18f5MD"
      },
      "id": "A6vRSE18f5MD",
      "execution_count": null,
      "outputs": []
    },
    {
      "cell_type": "code",
      "execution_count": null,
      "id": "54af6e48",
      "metadata": {
        "lines_to_next_cell": 1,
        "id": "54af6e48"
      },
      "outputs": [],
      "source": [
        "import numpy as np\n",
        "import cv2\n",
        "import matplotlib.pyplot as plt\n",
        "import torch\n",
        "import torch.nn as nn\n",
        "import torch.optim as optim\n",
        "import torch.nn.functional as F"
      ]
    },
    {
      "cell_type": "code",
      "execution_count": null,
      "id": "d6c25ab8",
      "metadata": {
        "lines_to_next_cell": 1,
        "id": "d6c25ab8"
      },
      "outputs": [],
      "source": [
        "# define the model\n",
        "class SobelFilter(nn.Module):\n",
        "    # initialization\n",
        "    def __init__(self):\n",
        "        super().__init__()\n",
        "        self.conv = nn.Conv2d(1,1,(3,3),bias=False,padding=1)\n",
        "    # forward\n",
        "    def forward(self, x):\n",
        "        return self.conv(x)"
      ]
    },
    {
      "cell_type": "code",
      "execution_count": null,
      "id": "adc1f449",
      "metadata": {
        "id": "adc1f449"
      },
      "outputs": [],
      "source": [
        "model = SobelFilter()\n",
        "model.load_state_dict(torch.load('sobel.pth'))"
      ]
    },
    {
      "cell_type": "code",
      "execution_count": null,
      "id": "c4153629",
      "metadata": {
        "id": "c4153629"
      },
      "outputs": [],
      "source": [
        "image = cv2.imread('lena.jpg',cv2.IMREAD_GRAYSCALE)\n",
        "rows,cols = image.shape\n",
        "input_images = torch.from_numpy(image).float().unsqueeze(0).unsqueeze(0)"
      ]
    },
    {
      "cell_type": "code",
      "execution_count": null,
      "id": "a9a7f64f",
      "metadata": {
        "id": "a9a7f64f"
      },
      "outputs": [],
      "source": [
        "output_images = model(input_images)"
      ]
    },
    {
      "cell_type": "code",
      "execution_count": null,
      "id": "77fe0948",
      "metadata": {
        "id": "77fe0948"
      },
      "outputs": [],
      "source": [
        "output_image = output_images[0].squeeze(0).detach().numpy()\n",
        "output_image = abs(output_image);\n",
        "output_image = cv2.normalize(output_image,None,0,255,cv2.NORM_MINMAX)\n",
        "output_image = np.uint8(output_image)\n",
        "plt.imshow(output_image, cmap='gray')\n",
        "plt.show()"
      ]
    }
  ],
  "metadata": {
    "jupytext": {
      "cell_metadata_filter": "-all",
      "main_language": "python",
      "notebook_metadata_filter": "-all"
    },
    "kernelspec": {
      "display_name": "Python 3 (ipykernel)",
      "language": "python",
      "name": "python3"
    },
    "language_info": {
      "codemirror_mode": {
        "name": "ipython",
        "version": 3
      },
      "file_extension": ".py",
      "mimetype": "text/x-python",
      "name": "python",
      "nbconvert_exporter": "python",
      "pygments_lexer": "ipython3",
      "version": "3.9.0"
    },
    "colab": {
      "provenance": []
    }
  },
  "nbformat": 4,
  "nbformat_minor": 5
}