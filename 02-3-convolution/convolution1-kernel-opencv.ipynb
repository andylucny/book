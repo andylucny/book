{
  "cells": [
    {
      "cell_type": "code",
      "execution_count": null,
      "id": "0cb067b5",
      "metadata": {
        "id": "0cb067b5"
      },
      "outputs": [],
      "source": [
        "import numpy as np\n",
        "import cv2\n",
        "import matplotlib.pyplot as plt\n",
        "!test -f lena.jpg || wget https://raw.githubusercontent.com/opencv/opencv/master/samples/data/lena.jpg\n",
        "image = cv2.imread('lena.jpg',cv2.IMREAD_GRAYSCALE)\n",
        "plt.imshow(image, cmap='gray')\n",
        "plt.show()"
      ]
    },
    {
      "cell_type": "code",
      "execution_count": null,
      "id": "70fcf730",
      "metadata": {
        "id": "70fcf730"
      },
      "outputs": [],
      "source": [
        "image.shape\n",
        "rows,cols = image.shape"
      ]
    },
    {
      "cell_type": "code",
      "execution_count": null,
      "id": "711fd9c3",
      "metadata": {
        "id": "711fd9c3"
      },
      "outputs": [],
      "source": [
        "input_image = np.float32(image)\n",
        "#input_image = image.astype(np.float32)"
      ]
    },
    {
      "cell_type": "code",
      "execution_count": null,
      "id": "a7c71253",
      "metadata": {
        "id": "a7c71253"
      },
      "outputs": [],
      "source": [
        "kernel = np.array([[-1,0,1],[-2,0,2],[-1,0,1]])\n",
        "kernel"
      ]
    },
    {
      "cell_type": "code",
      "execution_count": null,
      "id": "e386d2b7",
      "metadata": {
        "id": "e386d2b7"
      },
      "outputs": [],
      "source": [
        "output_image = cv2.filter2D(input_image,-1,kernel)"
      ]
    },
    {
      "cell_type": "code",
      "execution_count": null,
      "id": "011fdddf",
      "metadata": {
        "id": "011fdddf"
      },
      "outputs": [],
      "source": [
        "output_image = np.abs(output_image)\n",
        "output_image = cv2.normalize(output_image,None,0,255,cv2.NORM_MINMAX)\n",
        "output_image = np.uint8(output_image)"
      ]
    },
    {
      "cell_type": "code",
      "execution_count": null,
      "id": "300cdafc",
      "metadata": {
        "id": "300cdafc"
      },
      "outputs": [],
      "source": [
        "plt.imshow(output_image, cmap='gray')\n",
        "plt.show()"
      ]
    },
    {
      "cell_type": "code",
      "execution_count": null,
      "id": "30ba0311",
      "metadata": {
        "id": "30ba0311"
      },
      "outputs": [],
      "source": [
        "cv2.imwrite('lena-sobel.jpg',output_image)"
      ]
    }
  ],
  "metadata": {
    "jupytext": {
      "cell_metadata_filter": "-all",
      "main_language": "python",
      "notebook_metadata_filter": "-all"
    },
    "kernelspec": {
      "display_name": "Python 3 (ipykernel)",
      "language": "python",
      "name": "python3"
    },
    "language_info": {
      "codemirror_mode": {
        "name": "ipython",
        "version": 3
      },
      "file_extension": ".py",
      "mimetype": "text/x-python",
      "name": "python",
      "nbconvert_exporter": "python",
      "pygments_lexer": "ipython3",
      "version": "3.9.0"
    },
    "colab": {
      "provenance": []
    }
  },
  "nbformat": 4,
  "nbformat_minor": 5
}