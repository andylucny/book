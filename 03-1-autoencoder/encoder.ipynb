{
  "cells": [
    {
      "cell_type": "code",
      "execution_count": null,
      "id": "e8aaf6e3",
      "metadata": {
        "lines_to_next_cell": 1,
        "id": "e8aaf6e3"
      },
      "outputs": [],
      "source": [
        "import numpy as np\n",
        "import cv2\n",
        "import matplotlib.pyplot as plt\n",
        "import torch\n",
        "import torch.nn as nn\n",
        "import torch.optim as optim\n",
        "import torch.nn.functional as F\n",
        "from torchvision import datasets, transforms\n",
        "from torch.utils.data import DataLoader\n",
        "from torchsummary import summary"
      ]
    },
    {
      "cell_type": "code",
      "execution_count": null,
      "id": "6c3e305e",
      "metadata": {
        "lines_to_next_cell": 1,
        "id": "6c3e305e"
      },
      "outputs": [],
      "source": [
        "# architecture\n",
        "class Autoencoder(nn.Module):\n",
        "    def __init__(self):\n",
        "        super().__init__()\n",
        "        # convolution layers and max pooling of encoder\n",
        "        self.encoder = nn.Sequential(\n",
        "            nn.Conv2d(1,16,(3,3),padding=1),\n",
        "            nn.ReLU(),\n",
        "            nn.MaxPool2d(2),\n",
        "            nn.Conv2d(16,8,(3,3),padding=1),\n",
        "            nn.ReLU(),\n",
        "            nn.MaxPool2d(2),\n",
        "            nn.Conv2d(8,8,(3,3),padding=1),\n",
        "            nn.Sigmoid(),\n",
        "            nn.MaxPool2d(2,padding=1),\n",
        "            nn.Flatten()\n",
        "        )\n",
        "        # convolution layers and upsampling of decoder\n",
        "        self.decoder = nn.Sequential(\n",
        "            nn.Unflatten(1,(8,4,4)),\n",
        "            nn.Conv2d(8,8,(3,3),padding=1),\n",
        "            nn.ReLU(),\n",
        "            nn.Upsample(scale_factor=(2,2)),\n",
        "            nn.Conv2d(8,8,(3,3),padding=1),\n",
        "            nn.ReLU(),\n",
        "            nn.Upsample(scale_factor=(2,2)),\n",
        "            nn.Conv2d(8,16,(3,3)),\n",
        "            nn.ReLU(),\n",
        "            nn.Upsample(scale_factor=(2,2)),\n",
        "            nn.Conv2d(16,1,(3,3),padding=1),\n",
        "            nn.Sigmoid()\n",
        "        )\n",
        "    def forward(self, x):\n",
        "        # apply encoder\n",
        "        features = self.encoder(x)\n",
        "        # apply decoder\n",
        "        return self.decoder(features)\n",
        "    def __str__(self):\n",
        "        return str(self.encoder)+str(self.decoder)"
      ]
    },
    {
      "cell_type": "code",
      "execution_count": null,
      "id": "34f08a40",
      "metadata": {
        "id": "34f08a40"
      },
      "outputs": [],
      "source": [
        "autoencoder = Autoencoder()"
      ]
    },
    {
      "cell_type": "code",
      "source": [
        "model_name = 'pytorch_mnist_autoencoder_model.pth'\n",
        "print('upload',model_name)\n",
        "files.upload()\n",
        "autoencoder.load_state_dict(torch.load(model_name))"
      ],
      "metadata": {
        "id": "8ex3ZeOClJIR"
      },
      "id": "8ex3ZeOClJIR",
      "execution_count": null,
      "outputs": []
    },
    {
      "cell_type": "code",
      "source": [
        "device = 'cpu'\n",
        "autoencoder.to(device)\n",
        "autoencoder.eval()"
      ],
      "metadata": {
        "id": "FSjTyhbwn2W3"
      },
      "id": "FSjTyhbwn2W3",
      "execution_count": null,
      "outputs": []
    },
    {
      "cell_type": "code",
      "execution_count": null,
      "id": "a054401f",
      "metadata": {
        "id": "a054401f"
      },
      "outputs": [],
      "source": [
        "summary(autoencoder, input_size=(1,28,28), device=device)"
      ]
    },
    {
      "cell_type": "code",
      "execution_count": null,
      "id": "f3b5ba1b",
      "metadata": {
        "id": "f3b5ba1b"
      },
      "outputs": [],
      "source": [
        "encoder = autoencoder.encoder\n",
        "encoder.eval()"
      ]
    },
    {
      "cell_type": "code",
      "execution_count": null,
      "id": "19514dd2",
      "metadata": {
        "id": "19514dd2"
      },
      "outputs": [],
      "source": [
        "# test dataloader\n",
        "batch_size = 512\n",
        "test_loader = DataLoader(datasets.MNIST(root='data', train=False, download=True, transform=transforms.ToTensor()),batch_size=batch_size,shuffle=False)"
      ]
    },
    {
      "cell_type": "code",
      "execution_count": null,
      "id": "155ed068",
      "metadata": {
        "id": "155ed068"
      },
      "outputs": [],
      "source": [
        "feature_vectors = []\n",
        "values = []\n",
        "for batch, (x_test, y_test) in enumerate(test_loader):\n",
        "    # send data to device\n",
        "    inp = x_test.to(device)\n",
        "    # forward pass to the model\n",
        "    y = encoder(inp)\n",
        "    feature_vectors.append(y.detach().cpu().numpy())\n",
        "    values += list(y_test.detach().cpu().numpy())"
      ]
    },
    {
      "cell_type": "code",
      "execution_count": null,
      "id": "9324367c",
      "metadata": {
        "id": "9324367c"
      },
      "outputs": [],
      "source": [
        "feature_vectors = np.concatenate(feature_vectors)\n",
        "print(feature_vectors.shape)"
      ]
    },
    {
      "cell_type": "code",
      "execution_count": null,
      "id": "3953746d",
      "metadata": {
        "lines_to_next_cell": 1,
        "id": "3953746d"
      },
      "outputs": [],
      "source": [
        "colors = { 0 : (0,0,255), 1 : (0,255,255), 2 : (0,255,0), 3 : (255,255,0), 4 : (255,255,255), 5: (160,160,160), 6: (255,0,0), 7: (255,0,255), 8: (80,80,0), 9 : (80,0,0) }"
      ]
    },
    {
      "cell_type": "code",
      "execution_count": null,
      "id": "4f32b486",
      "metadata": {
        "lines_to_next_cell": 1,
        "id": "4f32b486"
      },
      "outputs": [],
      "source": [
        "def display(points,types):\n",
        "    m = np.max(np.abs(points))\n",
        "    points = (points+m)/(2*m)\n",
        "    v = 800\n",
        "    graph = np.zeros((v,v,3),np.uint8)\n",
        "    for i in range(len(points)):\n",
        "        cv2.circle(graph,(int(v*points[i,0]),int(v*(1-points[i,1]))),2,colors[types[i]],cv2.FILLED)\n",
        "\n",
        "    for j in range(10):\n",
        "        cv2.rectangle(graph,(j*32,0),((j+1)*32,32),colors[j],cv2.FILLED)\n",
        "        cv2.putText(graph,str(j),(j*32+8,32-8),0,0.9,(0,0,0))\n",
        "\n",
        "    return graph"
      ]
    },
    {
      "cell_type": "code",
      "execution_count": null,
      "id": "74141ef5",
      "metadata": {
        "id": "74141ef5"
      },
      "outputs": [],
      "source": [
        "mean, eigenvectors = cv2.PCACompute(feature_vectors, np.mean(feature_vectors, axis=0).reshape(1,-1))"
      ]
    },
    {
      "cell_type": "code",
      "execution_count": null,
      "id": "1c2f2729",
      "metadata": {
        "id": "1c2f2729"
      },
      "outputs": [],
      "source": [
        "points = np.dot(feature_vectors-mean,eigenvectors.T)\n",
        "points = points[:,:2]"
      ]
    },
    {
      "cell_type": "code",
      "execution_count": null,
      "id": "e276d23f",
      "metadata": {
        "id": "e276d23f"
      },
      "outputs": [],
      "source": [
        "graph = display(points, values)\n",
        "cv2.imwrite('latent-space.png',graph)\n",
        "plt.imshow(graph)\n",
        "plt.axis('off')\n",
        "plt.show()"
      ]
    },
    {
      "cell_type": "code",
      "source": [
        "files.download('latent-space.png')"
      ],
      "metadata": {
        "id": "8Ur-w59cmUsx"
      },
      "id": "8Ur-w59cmUsx",
      "execution_count": null,
      "outputs": []
    }
  ],
  "metadata": {
    "jupytext": {
      "cell_metadata_filter": "-all",
      "main_language": "python",
      "notebook_metadata_filter": "-all"
    },
    "colab": {
      "provenance": [],
      "gpuType": "T4"
    },
    "accelerator": "GPU",
    "language_info": {
      "name": "python"
    },
    "kernelspec": {
      "name": "python3",
      "display_name": "Python 3"
    }
  },
  "nbformat": 4,
  "nbformat_minor": 5
}