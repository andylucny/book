{
 "cells": [
  {
   "cell_type": "code",
   "execution_count": null,
   "id": "37a4e1c5",
   "metadata": {
    "lines_to_next_cell": 1
   },
   "outputs": [],
   "source": [
    "import numpy as np\n",
    "import cv2\n",
    "import torch\n",
    "import torch.nn as nn\n",
    "import torch.optim as optim\n",
    "import torch.nn.functional as F"
   ]
  },
  {
   "cell_type": "code",
   "execution_count": null,
   "id": "944877d9",
   "metadata": {
    "lines_to_next_cell": 1
   },
   "outputs": [],
   "source": [
    "# custom module\n",
    "class Reshape(nn.Module):\n",
    "    def __init__(self, *args):\n",
    "        super(Reshape, self).__init__()\n",
    "        self.shape = tuple(map(int,args))\n",
    "    def forward(self, x):\n",
    "        return x.view((x.shape[0],)+self.shape)"
   ]
  },
  {
   "cell_type": "code",
   "execution_count": null,
   "id": "5ab18a69",
   "metadata": {
    "lines_to_next_cell": 1
   },
   "outputs": [],
   "source": [
    "# architecture\n",
    "class Autoencoder(nn.Module):\n",
    "    def __init__(self):\n",
    "        super().__init__()\n",
    "        # convolution layers and max pooling of encoder\n",
    "        self.encoder = nn.Sequential(\n",
    "            nn.Conv2d(1,16,(3,3),padding=1),\n",
    "            nn.ReLU(),\n",
    "            nn.MaxPool2d(2),\n",
    "            nn.Conv2d(16,8,(3,3),padding=1),\n",
    "            nn.ReLU(),\n",
    "            nn.MaxPool2d(2),\n",
    "            nn.Conv2d(8,8,(3,3),padding=1),\n",
    "            nn.Sigmoid(),\n",
    "            nn.MaxPool2d(2,padding=1),\n",
    "            torch.nn.Flatten()\n",
    "        )\n",
    "        # convolution layers and upsampling of decoder\n",
    "        self.decoder = nn.Sequential(\n",
    "            Reshape(8,4,4),\n",
    "            nn.Conv2d(8,8,(3,3),padding=1),\n",
    "            nn.ReLU(),\n",
    "            nn.Upsample(scale_factor=(2,2)),\n",
    "            nn.Conv2d(8,8,(3,3),padding=1),\n",
    "            nn.ReLU(),\n",
    "            nn.Upsample(scale_factor=(2,2)),\n",
    "            nn.Conv2d(8,16,(3,3)),\n",
    "            nn.ReLU(),\n",
    "            nn.Upsample(scale_factor=(2,2)),\n",
    "            nn.Conv2d(16,1,(3,3),padding=1),\n",
    "            nn.Sigmoid()\n",
    "        )\n",
    "    def forward(self, x):\n",
    "        # apply encoder\n",
    "        features = self.encoder(x)\n",
    "        # apply decoder\n",
    "        return self.decoder(features)\n",
    "    def __str__(self):\n",
    "        return str(self.encoder)+str(self.decoder)"
   ]
  },
  {
   "cell_type": "code",
   "execution_count": null,
   "id": "d0d4e3e8",
   "metadata": {},
   "outputs": [],
   "source": [
    "autoencoder = Autoencoder()"
   ]
  },
  {
   "cell_type": "code",
   "execution_count": null,
   "id": "5cc9810c",
   "metadata": {},
   "outputs": [],
   "source": [
    "model_name = 'pytorch_mnist_autoencoder_model.pth'\n",
    "autoencoder.load_state_dict(torch.load(model_name))"
   ]
  },
  {
   "cell_type": "code",
   "execution_count": null,
   "id": "d0170879",
   "metadata": {},
   "outputs": [],
   "source": [
    "decoder = autoencoder.decoder\n",
    "decoder.eval()"
   ]
  },
  {
   "cell_type": "code",
   "execution_count": null,
   "id": "4be65dd1",
   "metadata": {},
   "outputs": [],
   "source": [
    "sample_image = cv2.imread('mnist/inp00009.png',cv2.IMREAD_GRAYSCALE)\n",
    "sample_blob = cv2.dnn.blobFromImage(sample_image,1.0/255.0)\n",
    "sample_features = autoencoder.encoder(torch.tensor(sample_blob))\n",
    "features = sample_features.squeeze(0).detach().cpu().numpy()"
   ]
  },
  {
   "cell_type": "code",
   "execution_count": null,
   "id": "46d5911f",
   "metadata": {},
   "outputs": [],
   "source": [
    "last_features = np.copy(features)\n",
    "last_features[0] = 1.0"
   ]
  },
  {
   "cell_type": "code",
   "execution_count": null,
   "id": "b29be398",
   "metadata": {},
   "outputs": [],
   "source": [
    "cv2.namedWindow(\"generator\")\n",
    "cv2.imshow('generator',np.zeros((560,560),np.uint8))"
   ]
  },
  {
   "cell_type": "code",
   "execution_count": null,
   "id": "4dbd6601",
   "metadata": {
    "lines_to_next_cell": 1
   },
   "outputs": [],
   "source": [
    "index = 55\n",
    "feature = 0"
   ]
  },
  {
   "cell_type": "code",
   "execution_count": null,
   "id": "60c36b52",
   "metadata": {
    "lines_to_next_cell": 1
   },
   "outputs": [],
   "source": [
    "def update_index( *args ):\n",
    "    global index, feature\n",
    "    index = args[0]\n",
    "    #features[index] = feature"
   ]
  },
  {
   "cell_type": "code",
   "execution_count": null,
   "id": "6db49a42",
   "metadata": {
    "lines_to_next_cell": 1
   },
   "outputs": [],
   "source": [
    "def update_feature( *args ):\n",
    "    global index, features\n",
    "    print(index,args[0])\n",
    "    feature = float(args[0]) / 127.0\n",
    "    features[index] = feature"
   ]
  },
  {
   "cell_type": "code",
   "execution_count": null,
   "id": "fccd997b",
   "metadata": {},
   "outputs": [],
   "source": [
    "cv2.createTrackbar(\"index\", \"generator\", index, 127, update_index)\n",
    "cv2.createTrackbar(\"value\", \"generator\", feature, 127, update_feature)"
   ]
  },
  {
   "cell_type": "code",
   "execution_count": null,
   "id": "77b28eea",
   "metadata": {},
   "outputs": [],
   "source": [
    "while True:\n",
    "\n",
    "    if not np.array_equal(features,last_features):\n",
    "        last_features = np.copy(features)\n",
    "        coded = torch.tensor(features,dtype=torch.float32).unsqueeze(0)\n",
    "        decoded = decoder(coded)\n",
    "        decoded = np.asarray(decoded[0].squeeze(0).detach().numpy()*255,np.uint8)\n",
    "        decoded = cv2.resize(decoded,(560,560))\n",
    "        print('displayed')\n",
    "        cv2.imshow('generator',decoded)\n",
    "\n",
    "    if cv2.waitKey(10) == 27:\n",
    "        break"
   ]
  },
  {
   "cell_type": "code",
   "execution_count": null,
   "id": "3eb9bd2b",
   "metadata": {},
   "outputs": [],
   "source": [
    "cv2.destroyAllWindows()"
   ]
  }
 ],
 "metadata": {
  "jupytext": {
   "cell_metadata_filter": "-all",
   "main_language": "python",
   "notebook_metadata_filter": "-all"
  }
 },
 "nbformat": 4,
 "nbformat_minor": 5
}
